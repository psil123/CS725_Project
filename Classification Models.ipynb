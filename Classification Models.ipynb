{
 "cells": [
  {
   "cell_type": "code",
   "execution_count": 36,
   "metadata": {
    "colab": {},
    "colab_type": "code",
    "id": "FQ_rmzq1k67s"
   },
   "outputs": [
    {
     "name": "stdout",
     "output_type": "stream",
     "text": [
      "/bin/bash: /home/vivek/miniconda3/lib/libtinfo.so.6: no version information available (required by /bin/bash)\n",
      "Requirement already satisfied: scikit-learn in /home/vivek/miniconda3/lib/python3.9/site-packages (1.1.3)\n",
      "^C\n",
      "\u001b[31mERROR: Operation cancelled by user\u001b[0m\n"
     ]
    }
   ],
   "source": [
    "# !pip install seaborn\n",
    "# !pip install sklearn\n",
    "!pip3 install -U scikit-learn\n",
    "import sklearn\n",
    "from sklearn.base import BaseEstimator, TransformerMixin\n",
    "import pandas as pd\n",
    "from sklearn.model_selection import train_test_split\n",
    "from sklearn.metrics import roc_curve, roc_auc_score, f1_score\n",
    "from sklearn.naive_bayes import GaussianNB\n",
    "from sklearn.linear_model import LogisticRegression\n",
    "from sklearn.naive_bayes import BernoulliNB\n",
    "from sklearn.tree import DecisionTreeClassifier\n",
    "import numpy as np\n",
    "import matplotlib.pyplot as plt\n",
    "import seaborn as sns\n",
    "from sklearn.pipeline import Pipeline, FeatureUnion\n",
    "from sklearn.metrics import accuracy_score\n",
    "from sklearn.metrics import confusion_matrix\n",
    "from sklearn import metrics\n",
    "import warnings"
   ]
  },
  {
   "cell_type": "code",
   "execution_count": 82,
   "metadata": {},
   "outputs": [],
   "source": [
    "# import matplotlib.pyplot as plt\n",
    "# plt.figure()\n",
    "# label = [\"Train\",\"Val\",\"Test\"] \n",
    "\n",
    "# values = [9384,3128,3615]\n",
    "# plt.pie(values, labels=label, autopct='%.0f%%') #autopct??\n",
    "# plt.show()\n",
    "# plt.savefig(\"dataset.png\")"
   ]
  },
  {
   "cell_type": "code",
   "execution_count": 4,
   "metadata": {},
   "outputs": [
    {
     "data": {
      "text/plain": [
       "16127"
      ]
     },
     "execution_count": 4,
     "metadata": {},
     "output_type": "execute_result"
    }
   ],
   "source": [
    "import numpy as np\n",
    "np.array([9384,3128,3615]).sum()"
   ]
  },
  {
   "cell_type": "code",
   "execution_count": null,
   "metadata": {},
   "outputs": [],
   "source": [
    "!sudo cp -r ../Downloads/ /home/vivek/cs725/project"
   ]
  },
  {
   "cell_type": "code",
   "execution_count": 42,
   "metadata": {
    "colab": {},
    "colab_type": "code",
    "id": "X6nn-VZm53wh"
   },
   "outputs": [],
   "source": [
    "import pandas as pd\n",
    "df = pd.read_csv('totalwithmaininfo1.csv',sep=',')\n",
    "df = df.drop(df.columns[0],axis=1)"
   ]
  },
  {
   "cell_type": "code",
   "execution_count": 43,
   "metadata": {},
   "outputs": [],
   "source": [
    "df.Y = df.Y.astype('int')"
   ]
  },
  {
   "cell_type": "code",
   "execution_count": 44,
   "metadata": {},
   "outputs": [
    {
     "data": {
      "text/html": [
       "<div>\n",
       "<style scoped>\n",
       "    .dataframe tbody tr th:only-of-type {\n",
       "        vertical-align: middle;\n",
       "    }\n",
       "\n",
       "    .dataframe tbody tr th {\n",
       "        vertical-align: top;\n",
       "    }\n",
       "\n",
       "    .dataframe thead th {\n",
       "        text-align: right;\n",
       "    }\n",
       "</style>\n",
       "<table border=\"1\" class=\"dataframe\">\n",
       "  <thead>\n",
       "    <tr style=\"text-align: right;\">\n",
       "      <th></th>\n",
       "      <th>MAR</th>\n",
       "      <th>Circulatory</th>\n",
       "      <th>MOE</th>\n",
       "      <th>EAR_N</th>\n",
       "      <th>MAR_N</th>\n",
       "      <th>Circulatory_N</th>\n",
       "      <th>MOE_N</th>\n",
       "      <th>Y</th>\n",
       "    </tr>\n",
       "  </thead>\n",
       "  <tbody>\n",
       "    <tr>\n",
       "      <th>0</th>\n",
       "      <td>0.990172</td>\n",
       "      <td>0.377137</td>\n",
       "      <td>3.819529</td>\n",
       "      <td>-2.871484</td>\n",
       "      <td>-1.311146</td>\n",
       "      <td>-3.324272</td>\n",
       "      <td>0.003040</td>\n",
       "      <td>0</td>\n",
       "    </tr>\n",
       "    <tr>\n",
       "      <th>1</th>\n",
       "      <td>0.904440</td>\n",
       "      <td>0.447990</td>\n",
       "      <td>3.141738</td>\n",
       "      <td>-2.842845</td>\n",
       "      <td>-1.396878</td>\n",
       "      <td>-3.253419</td>\n",
       "      <td>-0.674751</td>\n",
       "      <td>0</td>\n",
       "    </tr>\n",
       "    <tr>\n",
       "      <th>2</th>\n",
       "      <td>0.452492</td>\n",
       "      <td>0.334622</td>\n",
       "      <td>2.521654</td>\n",
       "      <td>-2.951281</td>\n",
       "      <td>-1.848826</td>\n",
       "      <td>-3.366788</td>\n",
       "      <td>-1.294835</td>\n",
       "      <td>0</td>\n",
       "    </tr>\n",
       "    <tr>\n",
       "      <th>3</th>\n",
       "      <td>0.518949</td>\n",
       "      <td>0.443054</td>\n",
       "      <td>1.790334</td>\n",
       "      <td>-2.840862</td>\n",
       "      <td>-1.782368</td>\n",
       "      <td>-3.258356</td>\n",
       "      <td>-2.026155</td>\n",
       "      <td>0</td>\n",
       "    </tr>\n",
       "    <tr>\n",
       "      <th>4</th>\n",
       "      <td>0.752099</td>\n",
       "      <td>0.442154</td>\n",
       "      <td>2.606156</td>\n",
       "      <td>-2.842138</td>\n",
       "      <td>-1.549219</td>\n",
       "      <td>-3.259255</td>\n",
       "      <td>-1.210333</td>\n",
       "      <td>0</td>\n",
       "    </tr>\n",
       "    <tr>\n",
       "      <th>...</th>\n",
       "      <td>...</td>\n",
       "      <td>...</td>\n",
       "      <td>...</td>\n",
       "      <td>...</td>\n",
       "      <td>...</td>\n",
       "      <td>...</td>\n",
       "      <td>...</td>\n",
       "      <td>...</td>\n",
       "    </tr>\n",
       "    <tr>\n",
       "      <th>1702</th>\n",
       "      <td>2.066571</td>\n",
       "      <td>0.730736</td>\n",
       "      <td>3.950920</td>\n",
       "      <td>-2.607663</td>\n",
       "      <td>-0.234747</td>\n",
       "      <td>-2.970673</td>\n",
       "      <td>0.134431</td>\n",
       "      <td>10</td>\n",
       "    </tr>\n",
       "    <tr>\n",
       "      <th>1703</th>\n",
       "      <td>0.835846</td>\n",
       "      <td>0.497353</td>\n",
       "      <td>2.413022</td>\n",
       "      <td>-2.784334</td>\n",
       "      <td>-1.465472</td>\n",
       "      <td>-3.204056</td>\n",
       "      <td>-1.403467</td>\n",
       "      <td>10</td>\n",
       "    </tr>\n",
       "    <tr>\n",
       "      <th>1704</th>\n",
       "      <td>0.805139</td>\n",
       "      <td>0.388743</td>\n",
       "      <td>3.031112</td>\n",
       "      <td>-2.865099</td>\n",
       "      <td>-1.496179</td>\n",
       "      <td>-3.312666</td>\n",
       "      <td>-0.785377</td>\n",
       "      <td>10</td>\n",
       "    </tr>\n",
       "    <tr>\n",
       "      <th>1705</th>\n",
       "      <td>0.965248</td>\n",
       "      <td>0.425491</td>\n",
       "      <td>3.723386</td>\n",
       "      <td>-2.871484</td>\n",
       "      <td>-1.336070</td>\n",
       "      <td>-3.275919</td>\n",
       "      <td>-0.093103</td>\n",
       "      <td>10</td>\n",
       "    </tr>\n",
       "    <tr>\n",
       "      <th>1706</th>\n",
       "      <td>1.017402</td>\n",
       "      <td>0.417556</td>\n",
       "      <td>3.732185</td>\n",
       "      <td>-2.858122</td>\n",
       "      <td>-1.283916</td>\n",
       "      <td>-3.283853</td>\n",
       "      <td>-0.084305</td>\n",
       "      <td>10</td>\n",
       "    </tr>\n",
       "  </tbody>\n",
       "</table>\n",
       "<p>1707 rows × 8 columns</p>\n",
       "</div>"
      ],
      "text/plain": [
       "           MAR  Circulatory       MOE     EAR_N     MAR_N  Circulatory_N  \\\n",
       "0     0.990172     0.377137  3.819529 -2.871484 -1.311146      -3.324272   \n",
       "1     0.904440     0.447990  3.141738 -2.842845 -1.396878      -3.253419   \n",
       "2     0.452492     0.334622  2.521654 -2.951281 -1.848826      -3.366788   \n",
       "3     0.518949     0.443054  1.790334 -2.840862 -1.782368      -3.258356   \n",
       "4     0.752099     0.442154  2.606156 -2.842138 -1.549219      -3.259255   \n",
       "...        ...          ...       ...       ...       ...            ...   \n",
       "1702  2.066571     0.730736  3.950920 -2.607663 -0.234747      -2.970673   \n",
       "1703  0.835846     0.497353  2.413022 -2.784334 -1.465472      -3.204056   \n",
       "1704  0.805139     0.388743  3.031112 -2.865099 -1.496179      -3.312666   \n",
       "1705  0.965248     0.425491  3.723386 -2.871484 -1.336070      -3.275919   \n",
       "1706  1.017402     0.417556  3.732185 -2.858122 -1.283916      -3.283853   \n",
       "\n",
       "         MOE_N   Y  \n",
       "0     0.003040   0  \n",
       "1    -0.674751   0  \n",
       "2    -1.294835   0  \n",
       "3    -2.026155   0  \n",
       "4    -1.210333   0  \n",
       "...        ...  ..  \n",
       "1702  0.134431  10  \n",
       "1703 -1.403467  10  \n",
       "1704 -0.785377  10  \n",
       "1705 -0.093103  10  \n",
       "1706 -0.084305  10  \n",
       "\n",
       "[1707 rows x 8 columns]"
      ]
     },
     "execution_count": 44,
     "metadata": {},
     "output_type": "execute_result"
    }
   ],
   "source": [
    "df"
   ]
  },
  {
   "cell_type": "code",
   "execution_count": 63,
   "metadata": {
    "colab": {},
    "colab_type": "code",
    "id": "bpyy8mYFk67z"
   },
   "outputs": [
    {
     "data": {
      "text/plain": [
       "{0, 5, 10}"
      ]
     },
     "execution_count": 63,
     "metadata": {},
     "output_type": "execute_result"
    }
   ],
   "source": [
    "y = df['Y'].values\n",
    "X = df.drop(['Y'], axis = 1)\n",
    "X_train, X_test, y_train, y_test = train_test_split(X,y,test_size = 0.2, random_state=42)\n",
    "set(df['Y'])"
   ]
  },
  {
   "cell_type": "code",
   "execution_count": 83,
   "metadata": {},
   "outputs": [],
   "source": [
    "# X_test\n",
    "# y_test"
   ]
  },
  {
   "cell_type": "code",
   "execution_count": 66,
   "metadata": {},
   "outputs": [
    {
     "data": {
      "text/html": [
       "<div>\n",
       "<style scoped>\n",
       "    .dataframe tbody tr th:only-of-type {\n",
       "        vertical-align: middle;\n",
       "    }\n",
       "\n",
       "    .dataframe tbody tr th {\n",
       "        vertical-align: top;\n",
       "    }\n",
       "\n",
       "    .dataframe thead th {\n",
       "        text-align: right;\n",
       "    }\n",
       "</style>\n",
       "<table border=\"1\" class=\"dataframe\">\n",
       "  <thead>\n",
       "    <tr style=\"text-align: right;\">\n",
       "      <th></th>\n",
       "      <th>MAR</th>\n",
       "      <th>Circulatory</th>\n",
       "      <th>MOE</th>\n",
       "      <th>EAR_N</th>\n",
       "      <th>MAR_N</th>\n",
       "      <th>Circulatory_N</th>\n",
       "      <th>MOE_N</th>\n",
       "    </tr>\n",
       "  </thead>\n",
       "  <tbody>\n",
       "    <tr>\n",
       "      <th>590</th>\n",
       "      <td>0.901497</td>\n",
       "      <td>0.350021</td>\n",
       "      <td>3.974246</td>\n",
       "      <td>-2.903889</td>\n",
       "      <td>-1.399821</td>\n",
       "      <td>-3.351389</td>\n",
       "      <td>0.157757</td>\n",
       "    </tr>\n",
       "    <tr>\n",
       "      <th>1550</th>\n",
       "      <td>1.316432</td>\n",
       "      <td>0.486842</td>\n",
       "      <td>4.944401</td>\n",
       "      <td>-2.864477</td>\n",
       "      <td>-0.984886</td>\n",
       "      <td>-3.214567</td>\n",
       "      <td>1.127912</td>\n",
       "    </tr>\n",
       "    <tr>\n",
       "      <th>420</th>\n",
       "      <td>1.022930</td>\n",
       "      <td>0.469267</td>\n",
       "      <td>3.175533</td>\n",
       "      <td>-2.808595</td>\n",
       "      <td>-1.278388</td>\n",
       "      <td>-3.232142</td>\n",
       "      <td>-0.640956</td>\n",
       "    </tr>\n",
       "    <tr>\n",
       "      <th>425</th>\n",
       "      <td>0.897647</td>\n",
       "      <td>0.493887</td>\n",
       "      <td>2.570931</td>\n",
       "      <td>-2.781571</td>\n",
       "      <td>-1.403671</td>\n",
       "      <td>-3.207522</td>\n",
       "      <td>-1.245558</td>\n",
       "    </tr>\n",
       "    <tr>\n",
       "      <th>857</th>\n",
       "      <td>2.607681</td>\n",
       "      <td>0.819381</td>\n",
       "      <td>4.583921</td>\n",
       "      <td>-2.561848</td>\n",
       "      <td>0.306363</td>\n",
       "      <td>-2.882028</td>\n",
       "      <td>0.767432</td>\n",
       "    </tr>\n",
       "    <tr>\n",
       "      <th>...</th>\n",
       "      <td>...</td>\n",
       "      <td>...</td>\n",
       "      <td>...</td>\n",
       "      <td>...</td>\n",
       "      <td>...</td>\n",
       "      <td>...</td>\n",
       "      <td>...</td>\n",
       "    </tr>\n",
       "    <tr>\n",
       "      <th>1130</th>\n",
       "      <td>1.031808</td>\n",
       "      <td>0.467084</td>\n",
       "      <td>3.500934</td>\n",
       "      <td>-2.836000</td>\n",
       "      <td>-1.269510</td>\n",
       "      <td>-3.234326</td>\n",
       "      <td>-0.315556</td>\n",
       "    </tr>\n",
       "    <tr>\n",
       "      <th>1294</th>\n",
       "      <td>0.348171</td>\n",
       "      <td>0.295078</td>\n",
       "      <td>2.446905</td>\n",
       "      <td>-2.988433</td>\n",
       "      <td>-1.953147</td>\n",
       "      <td>-3.406332</td>\n",
       "      <td>-1.369584</td>\n",
       "    </tr>\n",
       "    <tr>\n",
       "      <th>860</th>\n",
       "      <td>0.877609</td>\n",
       "      <td>0.448996</td>\n",
       "      <td>2.754042</td>\n",
       "      <td>-2.812062</td>\n",
       "      <td>-1.423709</td>\n",
       "      <td>-3.252413</td>\n",
       "      <td>-1.062447</td>\n",
       "    </tr>\n",
       "    <tr>\n",
       "      <th>1459</th>\n",
       "      <td>0.667987</td>\n",
       "      <td>0.343654</td>\n",
       "      <td>2.961117</td>\n",
       "      <td>-2.905137</td>\n",
       "      <td>-1.633330</td>\n",
       "      <td>-3.357755</td>\n",
       "      <td>-0.855373</td>\n",
       "    </tr>\n",
       "    <tr>\n",
       "      <th>1126</th>\n",
       "      <td>0.834465</td>\n",
       "      <td>0.380371</td>\n",
       "      <td>3.226600</td>\n",
       "      <td>-2.872103</td>\n",
       "      <td>-1.466852</td>\n",
       "      <td>-3.321038</td>\n",
       "      <td>-0.589890</td>\n",
       "    </tr>\n",
       "  </tbody>\n",
       "</table>\n",
       "<p>1365 rows × 7 columns</p>\n",
       "</div>"
      ],
      "text/plain": [
       "           MAR  Circulatory       MOE     EAR_N     MAR_N  Circulatory_N  \\\n",
       "590   0.901497     0.350021  3.974246 -2.903889 -1.399821      -3.351389   \n",
       "1550  1.316432     0.486842  4.944401 -2.864477 -0.984886      -3.214567   \n",
       "420   1.022930     0.469267  3.175533 -2.808595 -1.278388      -3.232142   \n",
       "425   0.897647     0.493887  2.570931 -2.781571 -1.403671      -3.207522   \n",
       "857   2.607681     0.819381  4.583921 -2.561848  0.306363      -2.882028   \n",
       "...        ...          ...       ...       ...       ...            ...   \n",
       "1130  1.031808     0.467084  3.500934 -2.836000 -1.269510      -3.234326   \n",
       "1294  0.348171     0.295078  2.446905 -2.988433 -1.953147      -3.406332   \n",
       "860   0.877609     0.448996  2.754042 -2.812062 -1.423709      -3.252413   \n",
       "1459  0.667987     0.343654  2.961117 -2.905137 -1.633330      -3.357755   \n",
       "1126  0.834465     0.380371  3.226600 -2.872103 -1.466852      -3.321038   \n",
       "\n",
       "         MOE_N  \n",
       "590   0.157757  \n",
       "1550  1.127912  \n",
       "420  -0.640956  \n",
       "425  -1.245558  \n",
       "857   0.767432  \n",
       "...        ...  \n",
       "1130 -0.315556  \n",
       "1294 -1.369584  \n",
       "860  -1.062447  \n",
       "1459 -0.855373  \n",
       "1126 -0.589890  \n",
       "\n",
       "[1365 rows x 7 columns]"
      ]
     },
     "execution_count": 66,
     "metadata": {},
     "output_type": "execute_result"
    }
   ],
   "source": [
    "\n",
    "X_train"
   ]
  },
  {
   "cell_type": "code",
   "execution_count": 84,
   "metadata": {},
   "outputs": [],
   "source": [
    "# X_train= X_train.to_numpy().reshape(-1, 1)\n",
    "# X_train"
   ]
  },
  {
   "cell_type": "code",
   "execution_count": 61,
   "metadata": {},
   "outputs": [
    {
     "data": {
      "text/plain": [
       "{0, 5, 10}"
      ]
     },
     "execution_count": 61,
     "metadata": {},
     "output_type": "execute_result"
    }
   ],
   "source": [
    "# X_test= X_test.to_numpy().reshape(-1, 1)\n",
    "# X_test\n",
    "set(y_test)"
   ]
  },
  {
   "cell_type": "markdown",
   "metadata": {
    "colab_type": "text",
    "id": "jskxKkq4k675"
   },
   "source": [
    "## 1. Logistic Regression"
   ]
  },
  {
   "cell_type": "code",
   "execution_count": 69,
   "metadata": {
    "colab": {
     "base_uri": "https://localhost:8080/",
     "height": 123
    },
    "colab_type": "code",
    "id": "GiTRhtZzk677",
    "outputId": "c3877614-a6cc-40ee-c9c4-8cb991b0aa6c"
   },
   "outputs": [
    {
     "name": "stdout",
     "output_type": "stream",
     "text": [
      "[10 10 10 10 10 10 10 10 10 10 10 10 10 10 10 10 10 10  5 10 10 10 10 10\n",
      " 10 10 10 10 10  5 10 10 10  5  5  5 10 10 10 10 10 10 10 10 10 10 10  5\n",
      " 10 10 10 10 10  5 10 10 10  5 10 10 10 10 10 10 10 10 10 10 10  5 10 10\n",
      " 10 10  5 10 10 10 10 10  5 10 10 10 10 10 10 10 10 10 10 10  5  5  5 10\n",
      " 10 10  5 10 10 10 10 10 10 10 10 10  5  5 10 10 10  5 10 10 10 10 10 10\n",
      " 10 10 10 10 10 10 10 10 10 10 10 10 10 10 10 10 10 10 10 10 10 10 10 10\n",
      " 10 10 10 10 10 10 10 10  5 10 10 10 10 10  5 10 10 10 10 10 10  5 10  5\n",
      " 10  5 10 10 10 10 10 10 10 10 10 10 10 10 10 10 10 10 10 10 10 10 10 10\n",
      " 10 10 10 10 10 10 10 10 10 10 10  5 10 10 10 10 10 10 10 10  5 10 10 10\n",
      " 10 10 10 10 10 10 10 10 10  5 10 10 10  5 10 10 10 10 10 10  5  5 10 10\n",
      " 10 10 10 10  5 10 10 10 10 10 10 10 10 10 10  5 10 10 10 10 10  5 10 10\n",
      " 10 10 10 10  5 10 10 10 10 10 10 10 10 10 10 10  5 10 10 10 10 10 10 10\n",
      "  5 10 10 10  5 10 10 10 10 10 10 10 10  5 10 10 10 10 10 10 10  5 10 10\n",
      " 10 10 10 10 10  5  5 10 10 10 10  5 10 10 10 10 10 10 10 10 10 10  5 10\n",
      " 10 10 10 10  5  5]\n",
      "[0.30116959064327486, 0.19340277213564938]\n",
      "[[  0  18 107]\n",
      " [  0  16 104]\n",
      " [  0  10  87]]\n"
     ]
    }
   ],
   "source": [
    "clf = LogisticRegression().fit(X_train, y_train)\n",
    "y_pred_1 = clf.predict(X_test)\n",
    "# y_pred_1 = average(y_pred_1)\n",
    "print(y_pred_1)\n",
    "y_score_1 = clf.predict_proba(X_test)[:,1]\n",
    "acc1 = accuracy_score(y_test, y_pred_1)\n",
    "f1_score_1 = metrics.f1_score(y_test, y_pred_1,average='weighted')\n",
    "# roc_1 = metrics.roc_auc_score(y_test, y_score_1)\n",
    "print([acc1,f1_score_1])\n",
    "print(confusion_matrix(y_test, y_pred_1))"
   ]
  },
  {
   "cell_type": "markdown",
   "metadata": {
    "colab_type": "text",
    "id": "NixT9PWxk68C"
   },
   "source": [
    "## 2. Naive Bayes"
   ]
  },
  {
   "cell_type": "code",
   "execution_count": 70,
   "metadata": {
    "colab": {
     "base_uri": "https://localhost:8080/",
     "height": 68
    },
    "colab_type": "code",
    "id": "nFP2tCt1k68E",
    "outputId": "09298598-aa4f-4f58-b2c3-bd3c65a221c8"
   },
   "outputs": [
    {
     "name": "stdout",
     "output_type": "stream",
     "text": [
      "[0.30701754385964913, array([0.04379562, 0.46534653, 0.11188811])]\n",
      "[[  3 106  16]\n",
      " [  4  94  22]\n",
      " [  5  84   8]]\n"
     ]
    }
   ],
   "source": [
    "clf_NB = GaussianNB()\n",
    "clf_NB.fit(X_train, y_train)\n",
    "pred_NB = clf_NB.predict(X_test)\n",
    "# pred_NB = average(pred_NB)\n",
    "y_score_2 = clf_NB.predict_proba(X_test)[:,1]\n",
    "acc2 = accuracy_score(y_test, pred_NB)\n",
    "f1_score_2 = metrics.f1_score(y_test, pred_NB,average=None)\n",
    "# roc_2 = metrics.roc_auc_score(y_test, y_score_2)\n",
    "print([acc2,f1_score_2])\n",
    "print(confusion_matrix(y_test, pred_NB))"
   ]
  },
  {
   "cell_type": "markdown",
   "metadata": {},
   "source": [
    "## 3. Decision Tree"
   ]
  },
  {
   "cell_type": "code",
   "execution_count": 75,
   "metadata": {
    "colab": {
     "base_uri": "https://localhost:8080/",
     "height": 34
    },
    "colab_type": "code",
    "id": "1kJSJ3V4k68d",
    "outputId": "7bb1950e-8083-4663-9ead-cac79cbb3af6"
   },
   "outputs": [
    {
     "name": "stdout",
     "output_type": "stream",
     "text": [
      "0.2309941520467836\n"
     ]
    }
   ],
   "source": [
    "from sklearn.tree import DecisionTreeClassifier\n",
    "acc3=[]\n",
    "max_depth = []\n",
    "for i in [2,3,4,5,6,7,8,9,10]:\n",
    "    clf_DT = DecisionTreeClassifier(random_state=0, max_depth = i)\n",
    "    clf_DT.fit(X_train, y_train)\n",
    "    pred_DT = clf_DT.predict(X_test)\n",
    "    # pred_DT = average(pred_DT)\n",
    "    acc3.append(accuracy_score(pred_DT, y_test))\n",
    "    max_depth.append(i)\n",
    "print (max(acc3))"
   ]
  },
  {
   "cell_type": "code",
   "execution_count": 77,
   "metadata": {
    "colab": {},
    "colab_type": "code",
    "id": "xCMzl0MH_TvR"
   },
   "outputs": [],
   "source": [
    " best_depth = max_depth[acc3.index(max(acc3))]"
   ]
  },
  {
   "cell_type": "code",
   "execution_count": 78,
   "metadata": {
    "colab": {
     "base_uri": "https://localhost:8080/",
     "height": 34
    },
    "colab_type": "code",
    "id": "miGWdN2wF1yr",
    "outputId": "73a3d4d2-7cde-40ab-ae6b-d0dbcd919380"
   },
   "outputs": [
    {
     "data": {
      "text/plain": [
       "2"
      ]
     },
     "execution_count": 78,
     "metadata": {},
     "output_type": "execute_result"
    }
   ],
   "source": [
    " best_depth"
   ]
  },
  {
   "cell_type": "code",
   "execution_count": 81,
   "metadata": {
    "colab": {
     "base_uri": "https://localhost:8080/",
     "height": 640
    },
    "colab_type": "code",
    "id": "EaB67cSUk685",
    "outputId": "2f1757dc-d577-4ebe-a361-39a5e460b972"
   },
   "outputs": [
    {
     "data": {
      "text/html": [
       "<div>\n",
       "<style scoped>\n",
       "    .dataframe tbody tr th:only-of-type {\n",
       "        vertical-align: middle;\n",
       "    }\n",
       "\n",
       "    .dataframe tbody tr th {\n",
       "        vertical-align: top;\n",
       "    }\n",
       "\n",
       "    .dataframe thead th {\n",
       "        text-align: right;\n",
       "    }\n",
       "</style>\n",
       "<table border=\"1\" class=\"dataframe\">\n",
       "  <thead>\n",
       "    <tr style=\"text-align: right;\">\n",
       "      <th></th>\n",
       "      <th>Accuracy</th>\n",
       "    </tr>\n",
       "    <tr>\n",
       "      <th>Model</th>\n",
       "      <th></th>\n",
       "    </tr>\n",
       "  </thead>\n",
       "  <tbody>\n",
       "    <tr>\n",
       "      <th>Logistic Regression</th>\n",
       "      <td>0.301170</td>\n",
       "    </tr>\n",
       "    <tr>\n",
       "      <th>Naive Bayes</th>\n",
       "      <td>0.307018</td>\n",
       "    </tr>\n",
       "    <tr>\n",
       "      <th>Decision Tree</th>\n",
       "      <td>0.230994</td>\n",
       "    </tr>\n",
       "  </tbody>\n",
       "</table>\n",
       "</div>"
      ],
      "text/plain": [
       "                     Accuracy\n",
       "Model                        \n",
       "Logistic Regression  0.301170\n",
       "Naive Bayes          0.307018\n",
       "Decision Tree        0.230994"
      ]
     },
     "execution_count": 81,
     "metadata": {},
     "output_type": "execute_result"
    },
    {
     "data": {
      "image/png": "[encoded data removed]",
      "text/plain": [
       "<Figure size 640x480 with 1 Axes>"
      ]
     },
     "metadata": {},
     "output_type": "display_data"
    }
   ],
   "source": [
    "acc_total = {'Model':['Logistic Regression','Naive Bayes','Decision Tree'],\n",
    "        'Accuracy':[acc1,acc2, acc3]}\n",
    "acc_total=pd.DataFrame(acc_total)\n",
    "acc_total=acc_total.set_index('Model')\n",
    "acc_total\n",
    "plt.plot(acc_total['Accuracy'])\n",
    "plt.xticks(rotation=45)\n",
    "acc_total"
   ]
  }
 ],
 "metadata": {
  "colab": {
   "collapsed_sections": [],
   "name": "predictive_modeling_AAS.ipynb",
   "provenance": []
  },
  "kernelspec": {
   "display_name": "Python 3 (ipykernel)",
   "language": "python",
   "name": "python3"
  },
  "language_info": {
   "codemirror_mode": {
    "name": "ipython",
    "version": 3
   },
   "file_extension": ".py",
   "mimetype": "text/x-python",
   "name": "python",
   "nbconvert_exporter": "python",
   "pygments_lexer": "ipython3",
   "version": "3.9.12"
  }
 },
 "nbformat": 4,
 "nbformat_minor": 4
}
