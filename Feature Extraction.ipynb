{
 "cells": [
  {
   "cell_type": "code",
   "execution_count": 14,
   "metadata": {
    "colab": {},
    "colab_type": "code",
    "id": "hQYqPEyytT2a"
   },
   "outputs": [],
   "source": [
    "import numpy as np\n",
    "import math\n",
    "import os.path\n",
    "import csv\n",
    "import glob\n",
    "import tensorflow as tf\n",
    "import h5py as h5py\n",
    "from keras.preprocessing import image\n",
    "from keras.applications.inception_v3 import InceptionV3, preprocess_input\n",
    "from keras.models import Model, load_model"
   ]
  },
  {
   "cell_type": "code",
   "execution_count": 15,
   "metadata": {
    "colab": {},
    "colab_type": "code",
    "id": "L09UMHR3unrx"
   },
   "outputs": [
    {
     "name": "stdout",
     "output_type": "stream",
     "text": [
      "/bin/bash: /home/vivek/miniconda3/lib/libtinfo.so.6: no version information available (required by /bin/bash)\n",
      "Requirement already satisfied: scikit-image in /home/vivek/miniconda3/lib/python3.9/site-packages (0.19.3)\n",
      "Requirement already satisfied: scipy>=1.4.1 in /home/vivek/miniconda3/lib/python3.9/site-packages (from scikit-image) (1.9.3)\n",
      "Requirement already satisfied: PyWavelets>=1.1.1 in /home/vivek/miniconda3/lib/python3.9/site-packages (from scikit-image) (1.4.1)\n",
      "Requirement already satisfied: packaging>=20.0 in /home/vivek/miniconda3/lib/python3.9/site-packages (from scikit-image) (21.3)\n",
      "Requirement already satisfied: numpy>=1.17.0 in /home/vivek/miniconda3/lib/python3.9/site-packages (from scikit-image) (1.23.5)\n",
      "Requirement already satisfied: tifffile>=2019.7.26 in /home/vivek/miniconda3/lib/python3.9/site-packages (from scikit-image) (2022.10.10)\n",
      "Requirement already satisfied: networkx>=2.2 in /home/vivek/miniconda3/lib/python3.9/site-packages (from scikit-image) (2.8.8)\n",
      "Requirement already satisfied: imageio>=2.4.1 in /home/vivek/miniconda3/lib/python3.9/site-packages (from scikit-image) (2.22.4)\n",
      "Requirement already satisfied: pillow!=7.1.0,!=7.1.1,!=8.3.0,>=6.1.0 in /home/vivek/miniconda3/lib/python3.9/site-packages (from scikit-image) (9.3.0)\n",
      "Requirement already satisfied: pyparsing!=3.0.5,>=2.0.2 in /home/vivek/miniconda3/lib/python3.9/site-packages (from packaging>=20.0->scikit-image) (3.0.9)\n"
     ]
    }
   ],
   "source": [
    "# !pip install imageio\n",
    "# !pip install mlxtend\n",
    "# !pip install dlib\n",
    "!pip install scikit-image\n",
    "import imageio\n",
    "import matplotlib.pyplot as plt\n",
    "from mlxtend.image import extract_face_landmarks"
   ]
  },
  {
   "cell_type": "code",
   "execution_count": null,
   "metadata": {
    "colab": {
     "base_uri": "https://localhost:8080/",
     "height": 69
    },
    "colab_type": "code",
    "id": "b-JU_7-ytcqx",
    "outputId": "3b70ec9f-8f4f-4c28-fc1c-3ad785c77512"
   },
   "outputs": [
    {
     "name": "stdout",
     "output_type": "stream",
     "text": [
      "Drive already mounted at /content/drive/; to attempt to forcibly remount, call drive.mount(\"/content/drive/\", force_remount=True).\n"
     ]
    }
   ],
   "source": [
    "from google.colab import drive\n",
    "drive.mount('/content/drive/')"
   ]
  },
  {
   "cell_type": "code",
   "execution_count": null,
   "metadata": {
    "colab": {
     "base_uri": "https://localhost:8080/",
     "height": 63
    },
    "colab_type": "code",
    "id": "I1BN_yg-PlmU",
    "outputId": "1c889835-d70f-40ea-9ff7-8e0ceeed8552"
   },
   "outputs": [
    {
     "name": "stdout",
     "output_type": "stream",
     "text": [
      " Fold5_part1   Fold5_part2  'Getting started.pdf'\n"
     ]
    }
   ],
   "source": [
    "! ls '/content/drive/My Drive/'"
   ]
  },
  {
   "cell_type": "code",
   "execution_count": 16,
   "metadata": {
    "colab": {},
    "colab_type": "code",
    "id": "s-p-3knNupj6"
   },
   "outputs": [],
   "source": [
    "def eye_aspect_ratio(eye):\n",
    "\tA = distance.euclidean(eye[1], eye[5])\n",
    "\tB = distance.euclidean(eye[2], eye[4])\n",
    "\tC = distance.euclidean(eye[0], eye[3])\n",
    "\tear = (A + B) / (2.0 * C)\n",
    "\treturn ear"
   ]
  },
  {
   "cell_type": "code",
   "execution_count": 17,
   "metadata": {
    "colab": {},
    "colab_type": "code",
    "id": "Gacb2hPmubbr"
   },
   "outputs": [],
   "source": [
    "def mouth_aspect_ratio(mouth):\n",
    "    A = distance.euclidean(mouth[14], mouth[18])\n",
    "    C = distance.euclidean(mouth[12], mouth[16])\n",
    "    mar = (A ) / (C)\n",
    "    return mar"
   ]
  },
  {
   "cell_type": "code",
   "execution_count": 18,
   "metadata": {
    "colab": {},
    "colab_type": "code",
    "id": "dYhTecWBuygh"
   },
   "outputs": [],
   "source": [
    "def circularity(eye):\n",
    "    A = distance.euclidean(eye[1], eye[4])\n",
    "    radius  = A/2.0\n",
    "    Area = math.pi * (radius ** 2)\n",
    "    p = 0\n",
    "    p += distance.euclidean(eye[0], eye[1])\n",
    "    p += distance.euclidean(eye[1], eye[2])\n",
    "    p += distance.euclidean(eye[2], eye[3])\n",
    "    p += distance.euclidean(eye[3], eye[4])\n",
    "    p += distance.euclidean(eye[4], eye[5])\n",
    "    p += distance.euclidean(eye[5], eye[0])\n",
    "    return 4 * math.pi * Area /(p**2)"
   ]
  },
  {
   "cell_type": "code",
   "execution_count": 19,
   "metadata": {
    "colab": {},
    "colab_type": "code",
    "id": "0FpZ1jDou4dx"
   },
   "outputs": [],
   "source": [
    "def mouth_over_eye(eye):\n",
    "    ear = eye_aspect_ratio(eye)\n",
    "    mar = mouth_aspect_ratio(eye)\n",
    "    mouth_eye = mar/ear\n",
    "    return mouth_eye"
   ]
  },
  {
   "cell_type": "code",
   "execution_count": 48,
   "metadata": {
    "colab": {},
    "colab_type": "code",
    "id": "aZ0uQXMcu81N"
   },
   "outputs": [],
   "source": [
    "def getFrame(sec):\n",
    "    start = 180000\n",
    "    print(vidcap.set(cv2.CAP_PROP_POS_MSEC, start + sec*1000))\n",
    "    hasFrames,image = vidcap.read()\n",
    "    return hasFrames, image"
   ]
  },
  {
   "cell_type": "code",
   "execution_count": 73,
   "metadata": {
    "colab": {},
    "colab_type": "code",
    "id": "tO2j7gMPu_3f"
   },
   "outputs": [],
   "source": [
    "# main program\n",
    "from scipy.spatial import distance\n",
    "from numpy import asarray\n",
    "from PIL import Image\n",
    "import cv2\n",
    "data = []\n",
    "labels = []\n",
    "\n",
    "for i in [0,5,10]:\n",
    "    folder = '../Dataset/Train/'+str(f)\n",
    "    for filename in os.listdir(folder):\n",
    "            print(filename)\n",
    "            image = cv2.imread(os.path.join(folder,filename))\n",
    "            landmarks = extract_face_landmarks(image)\n",
    "            if  landmarks is not None :\n",
    "              if sum(sum(landmarks)) != 0:\n",
    "                  count += 1\n",
    "                  data.append(landmarks)\n",
    "                  print('label',i)\n",
    "                  labels.append([i])\n",
    "                  sec = sec + frameRate\n",
    "                  print(sec)\n",
    "                  sec = round(sec, 2)\n",
    "                  success, image = getFrame(sec)\n",
    "                  print(count)\n",
    "              else:  \n",
    "                  sec = sec + frameRate\n",
    "                  sec = round(sec, 2)\n",
    "                  success, image = getFrame(sec)\n",
    "                  print(\"not detected\")\n",
    "\n",
    "len(data)\n",
    "len(labels)"
   ]
  },
  {
   "cell_type": "code",
   "execution_count": 62,
   "metadata": {},
   "outputs": [
    {
     "data": {
      "text/plain": [
       "68"
      ]
     },
     "execution_count": 62,
     "metadata": {},
     "output_type": "execute_result"
    }
   ],
   "source": [
    "len(data[0])"
   ]
  },
  {
   "cell_type": "code",
   "execution_count": 75,
   "metadata": {
    "colab": {},
    "colab_type": "code",
    "id": "p-6fHdXuvD85"
   },
   "outputs": [],
   "source": [
    "import numpy as np\n",
    "data = np.array(data)\n",
    "labels = np.array(labels)"
   ]
  },
  {
   "cell_type": "code",
   "execution_count": 76,
   "metadata": {},
   "outputs": [
    {
     "data": {
      "text/plain": [
       "array([[[558, 270],\n",
       "        [560, 296],\n",
       "        [563, 321],\n",
       "        ...,\n",
       "        [664, 353],\n",
       "        [654, 354],\n",
       "        [645, 352]],\n",
       "\n",
       "       [[559, 281],\n",
       "        [561, 308],\n",
       "        [564, 333],\n",
       "        ...,\n",
       "        [665, 371],\n",
       "        [656, 373],\n",
       "        [648, 373]],\n",
       "\n",
       "       [[262, 761],\n",
       "        [258, 809],\n",
       "        [257, 857],\n",
       "        ...,\n",
       "        [519, 901],\n",
       "        [501, 902],\n",
       "        [482, 901]],\n",
       "\n",
       "       ...,\n",
       "\n",
       "       [[535, 339],\n",
       "        [539, 363],\n",
       "        [543, 387],\n",
       "        ...,\n",
       "        [677, 383],\n",
       "        [668, 383],\n",
       "        [658, 381]],\n",
       "\n",
       "       [[523, 339],\n",
       "        [526, 361],\n",
       "        [530, 383],\n",
       "        ...,\n",
       "        [646, 376],\n",
       "        [636, 376],\n",
       "        [626, 375]],\n",
       "\n",
       "       [[555, 271],\n",
       "        [557, 296],\n",
       "        [559, 320],\n",
       "        ...,\n",
       "        [659, 341],\n",
       "        [650, 342],\n",
       "        [642, 341]]], dtype=int32)"
      ]
     },
     "execution_count": 76,
     "metadata": {},
     "output_type": "execute_result"
    }
   ],
   "source": [
    "data"
   ]
  },
  {
   "cell_type": "code",
   "execution_count": 101,
   "metadata": {
    "colab": {},
    "colab_type": "code",
    "id": "WMmgtUjvvHR3"
   },
   "outputs": [],
   "source": [
    "features = []\n",
    "for d in data:\n",
    "  eye = d[36:68]\n",
    "  ear = eye_aspect_ratio(eye)\n",
    "  mar = mouth_aspect_ratio(eye)\n",
    "  cir = circularity(eye)\n",
    "  mouth_eye = mouth_over_eye(eye)\n",
    "  features.append([ear, mar, cir, mouth_eye])"
   ]
  },
  {
   "cell_type": "code",
   "execution_count": null,
   "metadata": {},
   "outputs": [],
   "source": []
  },
  {
   "cell_type": "code",
   "execution_count": 104,
   "metadata": {
    "colab": {
     "base_uri": "https://localhost:8080/",
     "height": 34
    },
    "colab_type": "code",
    "id": "-9N4tUy9wu4z",
    "outputId": "6681de27-0450-4388-efb8-6dcaca57b753"
   },
   "outputs": [
    {
     "data": {
      "text/plain": [
       "(1707, 4)"
      ]
     },
     "execution_count": 104,
     "metadata": {},
     "output_type": "execute_result"
    }
   ],
   "source": [
    "features = np.array(features)\n",
    "features.shape"
   ]
  },
  {
   "cell_type": "code",
   "execution_count": 105,
   "metadata": {
    "colab": {
     "base_uri": "https://localhost:8080/",
     "height": 34
    },
    "colab_type": "code",
    "id": "vFcl7obTxAEQ",
    "outputId": "0e6dece1-4207-4f6f-9448-57da33f84a7b"
   },
   "outputs": [
    {
     "data": {
      "text/plain": [
       "(1707, 68, 2)"
      ]
     },
     "execution_count": 105,
     "metadata": {},
     "output_type": "execute_result"
    }
   ],
   "source": [
    "data.shape"
   ]
  },
  {
   "cell_type": "code",
   "execution_count": 106,
   "metadata": {
    "colab": {
     "base_uri": "https://localhost:8080/",
     "height": 34
    },
    "colab_type": "code",
    "id": "N0bK8yFt5m6p",
    "outputId": "add4d009-9a39-4986-e9a5-5061e1c3fa47"
   },
   "outputs": [
    {
     "data": {
      "text/plain": [
       "array([[ 0],\n",
       "       [ 0],\n",
       "       [ 0],\n",
       "       ...,\n",
       "       [10],\n",
       "       [10],\n",
       "       [10]])"
      ]
     },
     "execution_count": 106,
     "metadata": {},
     "output_type": "execute_result"
    }
   ],
   "source": [
    "labels"
   ]
  },
  {
   "cell_type": "code",
   "execution_count": 110,
   "metadata": {},
   "outputs": [],
   "source": [
    "np.save(open('train_features.npy','wb'), features)\n",
    "np.save(open('train_features_labels.npy', 'wb'),labels)\n",
    "np.savetxt('train_features.csv', features, delimiter = \",\", header=\"ear, mar, cir, mouth_eye\",comments=\"\")\n",
    "np.savetxt('train_features_labels.csv',labels, delimiter = \",\", header=\"Y\",comments=\"\")"
   ]
  },
  {
   "cell_type": "code",
   "execution_count": 90,
   "metadata": {},
   "outputs": [
    {
     "data": {
      "text/plain": [
       "((1707, 4), (1707, 1))"
      ]
     },
     "execution_count": 90,
     "metadata": {},
     "output_type": "execute_result"
    }
   ],
   "source": [
    "features.shape, labels.shape"
   ]
  },
  {
   "cell_type": "code",
   "execution_count": 2,
   "metadata": {},
   "outputs": [
    {
     "data": {
      "text/html": [
       "<div>\n",
       "<style scoped>\n",
       "    .dataframe tbody tr th:only-of-type {\n",
       "        vertical-align: middle;\n",
       "    }\n",
       "\n",
       "    .dataframe tbody tr th {\n",
       "        vertical-align: top;\n",
       "    }\n",
       "\n",
       "    .dataframe thead th {\n",
       "        text-align: right;\n",
       "    }\n",
       "</style>\n",
       "<table border=\"1\" class=\"dataframe\">\n",
       "  <thead>\n",
       "    <tr style=\"text-align: right;\">\n",
       "      <th></th>\n",
       "      <th>ear</th>\n",
       "      <th>mar</th>\n",
       "      <th>cir</th>\n",
       "      <th>mouth_eye</th>\n",
       "    </tr>\n",
       "  </thead>\n",
       "  <tbody>\n",
       "    <tr>\n",
       "      <th>0</th>\n",
       "      <td>0.259239</td>\n",
       "      <td>0.990172</td>\n",
       "      <td>0.377137</td>\n",
       "      <td>3.819529</td>\n",
       "    </tr>\n",
       "    <tr>\n",
       "      <th>1</th>\n",
       "      <td>0.287879</td>\n",
       "      <td>0.904440</td>\n",
       "      <td>0.447990</td>\n",
       "      <td>3.141738</td>\n",
       "    </tr>\n",
       "    <tr>\n",
       "      <th>2</th>\n",
       "      <td>0.179442</td>\n",
       "      <td>0.452492</td>\n",
       "      <td>0.334622</td>\n",
       "      <td>2.521654</td>\n",
       "    </tr>\n",
       "    <tr>\n",
       "      <th>3</th>\n",
       "      <td>0.289862</td>\n",
       "      <td>0.518949</td>\n",
       "      <td>0.443054</td>\n",
       "      <td>1.790334</td>\n",
       "    </tr>\n",
       "    <tr>\n",
       "      <th>4</th>\n",
       "      <td>0.288585</td>\n",
       "      <td>0.752099</td>\n",
       "      <td>0.442154</td>\n",
       "      <td>2.606156</td>\n",
       "    </tr>\n",
       "  </tbody>\n",
       "</table>\n",
       "</div>"
      ],
      "text/plain": [
       "        ear       mar       cir   mouth_eye\n",
       "0  0.259239  0.990172  0.377137    3.819529\n",
       "1  0.287879  0.904440  0.447990    3.141738\n",
       "2  0.179442  0.452492  0.334622    2.521654\n",
       "3  0.289862  0.518949  0.443054    1.790334\n",
       "4  0.288585  0.752099  0.442154    2.606156"
      ]
     },
     "execution_count": 2,
     "metadata": {},
     "output_type": "execute_result"
    }
   ],
   "source": [
    "import pandas as pd\n",
    "df = pd.read_csv('train_features.csv')\n",
    "df.head()"
   ]
  },
  {
   "cell_type": "code",
   "execution_count": 150,
   "metadata": {},
   "outputs": [
    {
     "data": {
      "text/html": [
       "<div>\n",
       "<style scoped>\n",
       "    .dataframe tbody tr th:only-of-type {\n",
       "        vertical-align: middle;\n",
       "    }\n",
       "\n",
       "    .dataframe tbody tr th {\n",
       "        vertical-align: top;\n",
       "    }\n",
       "\n",
       "    .dataframe thead th {\n",
       "        text-align: right;\n",
       "    }\n",
       "</style>\n",
       "<table border=\"1\" class=\"dataframe\">\n",
       "  <thead>\n",
       "    <tr style=\"text-align: right;\">\n",
       "      <th></th>\n",
       "      <th>EAR</th>\n",
       "      <th>MAR</th>\n",
       "      <th>Circulatory</th>\n",
       "      <th>MOE</th>\n",
       "      <th>EAR_N</th>\n",
       "      <th>MAR_N</th>\n",
       "      <th>Circulatory_N</th>\n",
       "      <th>MOE_N</th>\n",
       "    </tr>\n",
       "  </thead>\n",
       "  <tbody>\n",
       "    <tr>\n",
       "      <th>0</th>\n",
       "      <td>0.259239</td>\n",
       "      <td>0.990172</td>\n",
       "      <td>0.377137</td>\n",
       "      <td>3.819529</td>\n",
       "      <td>0.380600</td>\n",
       "      <td>0.314112</td>\n",
       "      <td>0.387625</td>\n",
       "      <td>0.453853</td>\n",
       "    </tr>\n",
       "    <tr>\n",
       "      <th>1</th>\n",
       "      <td>0.287879</td>\n",
       "      <td>0.904440</td>\n",
       "      <td>0.447990</td>\n",
       "      <td>3.141738</td>\n",
       "      <td>0.422647</td>\n",
       "      <td>0.286916</td>\n",
       "      <td>0.460448</td>\n",
       "      <td>0.373315</td>\n",
       "    </tr>\n",
       "    <tr>\n",
       "      <th>2</th>\n",
       "      <td>0.179442</td>\n",
       "      <td>0.452492</td>\n",
       "      <td>0.334622</td>\n",
       "      <td>2.521654</td>\n",
       "      <td>0.263447</td>\n",
       "      <td>0.143544</td>\n",
       "      <td>0.343927</td>\n",
       "      <td>0.299634</td>\n",
       "    </tr>\n",
       "    <tr>\n",
       "      <th>3</th>\n",
       "      <td>0.289862</td>\n",
       "      <td>0.518949</td>\n",
       "      <td>0.443054</td>\n",
       "      <td>1.790334</td>\n",
       "      <td>0.425558</td>\n",
       "      <td>0.164626</td>\n",
       "      <td>0.455374</td>\n",
       "      <td>0.212735</td>\n",
       "    </tr>\n",
       "    <tr>\n",
       "      <th>4</th>\n",
       "      <td>0.288585</td>\n",
       "      <td>0.752099</td>\n",
       "      <td>0.442154</td>\n",
       "      <td>2.606156</td>\n",
       "      <td>0.423684</td>\n",
       "      <td>0.238588</td>\n",
       "      <td>0.454450</td>\n",
       "      <td>0.309675</td>\n",
       "    </tr>\n",
       "  </tbody>\n",
       "</table>\n",
       "</div>"
      ],
      "text/plain": [
       "        EAR       MAR  Circulatory       MOE     EAR_N     MAR_N  \\\n",
       "0  0.259239  0.990172     0.377137  3.819529  0.380600  0.314112   \n",
       "1  0.287879  0.904440     0.447990  3.141738  0.422647  0.286916   \n",
       "2  0.179442  0.452492     0.334622  2.521654  0.263447  0.143544   \n",
       "3  0.289862  0.518949     0.443054  1.790334  0.425558  0.164626   \n",
       "4  0.288585  0.752099     0.442154  2.606156  0.423684  0.238588   \n",
       "\n",
       "   Circulatory_N     MOE_N  \n",
       "0       0.387625  0.453853  \n",
       "1       0.460448  0.373315  \n",
       "2       0.343927  0.299634  \n",
       "3       0.455374  0.212735  \n",
       "4       0.454450  0.309675  "
      ]
     },
     "execution_count": 150,
     "metadata": {},
     "output_type": "execute_result"
    }
   ],
   "source": [
    "df.rename(columns = {'ear':'EAR',' mar':'MAR',' cir':'Circulatory', ' mouth_eye':'MOE'}, inplace = True)\n",
    "df['EAR_N'] = df['EAR'] / df['EAR'].max(axis=0)\n",
    "df['MAR_N'] = df['MAR'] / df['MAR'].max(axis=0)\n",
    "df['Circulatory_N'] = df['Circulatory'] / df['Circulatory'].max(axis=0)\n",
    "df['MOE_N'] = df['MOE'] / df['MOE'].max(axis=0)\n",
    "df.head()"
   ]
  },
  {
   "cell_type": "code",
   "execution_count": 3,
   "metadata": {},
   "outputs": [
    {
     "data": {
      "text/html": [
       "<div>\n",
       "<style scoped>\n",
       "    .dataframe tbody tr th:only-of-type {\n",
       "        vertical-align: middle;\n",
       "    }\n",
       "\n",
       "    .dataframe tbody tr th {\n",
       "        vertical-align: top;\n",
       "    }\n",
       "\n",
       "    .dataframe thead th {\n",
       "        text-align: right;\n",
       "    }\n",
       "</style>\n",
       "<table border=\"1\" class=\"dataframe\">\n",
       "  <thead>\n",
       "    <tr style=\"text-align: right;\">\n",
       "      <th></th>\n",
       "      <th>Y</th>\n",
       "    </tr>\n",
       "  </thead>\n",
       "  <tbody>\n",
       "    <tr>\n",
       "      <th>0</th>\n",
       "      <td>0.0</td>\n",
       "    </tr>\n",
       "    <tr>\n",
       "      <th>1</th>\n",
       "      <td>0.0</td>\n",
       "    </tr>\n",
       "    <tr>\n",
       "      <th>2</th>\n",
       "      <td>0.0</td>\n",
       "    </tr>\n",
       "    <tr>\n",
       "      <th>3</th>\n",
       "      <td>0.0</td>\n",
       "    </tr>\n",
       "    <tr>\n",
       "      <th>4</th>\n",
       "      <td>0.0</td>\n",
       "    </tr>\n",
       "    <tr>\n",
       "      <th>...</th>\n",
       "      <td>...</td>\n",
       "    </tr>\n",
       "    <tr>\n",
       "      <th>1702</th>\n",
       "      <td>10.0</td>\n",
       "    </tr>\n",
       "    <tr>\n",
       "      <th>1703</th>\n",
       "      <td>10.0</td>\n",
       "    </tr>\n",
       "    <tr>\n",
       "      <th>1704</th>\n",
       "      <td>10.0</td>\n",
       "    </tr>\n",
       "    <tr>\n",
       "      <th>1705</th>\n",
       "      <td>10.0</td>\n",
       "    </tr>\n",
       "    <tr>\n",
       "      <th>1706</th>\n",
       "      <td>10.0</td>\n",
       "    </tr>\n",
       "  </tbody>\n",
       "</table>\n",
       "<p>1707 rows × 1 columns</p>\n",
       "</div>"
      ],
      "text/plain": [
       "         Y\n",
       "0      0.0\n",
       "1      0.0\n",
       "2      0.0\n",
       "3      0.0\n",
       "4      0.0\n",
       "...    ...\n",
       "1702  10.0\n",
       "1703  10.0\n",
       "1704  10.0\n",
       "1705  10.0\n",
       "1706  10.0\n",
       "\n",
       "[1707 rows x 1 columns]"
      ]
     },
     "execution_count": 3,
     "metadata": {},
     "output_type": "execute_result"
    }
   ],
   "source": [
    "df1 = pd.read_csv('train_features_labels.csv')\n",
    "df1"
   ]
  },
  {
   "cell_type": "code",
   "execution_count": 178,
   "metadata": {},
   "outputs": [],
   "source": [
    "total = pd.concat([df, df1], axis=1, ignore_index=True)\n",
    "total.columns = ['EAR', 'MAR', 'Circulatory', 'MOE', 'EAR_N', 'MAR_N', 'Circulatory_N',\n",
    "       'MOE_N', 'Y']\n",
    "total.to_csv('totalwithmaininfo1.csv',index=False)"
   ]
  },
  {
   "cell_type": "code",
   "execution_count": 161,
   "metadata": {},
   "outputs": [
    {
     "data": {
      "text/plain": [
       "array([ 0.,  5., 10.])"
      ]
     },
     "execution_count": 161,
     "metadata": {},
     "output_type": "execute_result"
    }
   ],
   "source": [
    "pd.unique(df1['Y'])"
   ]
  },
  {
   "cell_type": "code",
   "execution_count": null,
   "metadata": {},
   "outputs": [],
   "source": []
  }
 ],
 "metadata": {
  "accelerator": "GPU",
  "colab": {
   "collapsed_sections": [],
   "name": "final_feature_extraction.ipynb",
   "provenance": []
  },
  "kernelspec": {
   "display_name": "Python 3 (ipykernel)",
   "language": "python",
   "name": "python3"
  },
  "language_info": {
   "codemirror_mode": {
    "name": "ipython",
    "version": 3
   },
   "file_extension": ".py",
   "mimetype": "text/x-python",
   "name": "python",
   "nbconvert_exporter": "python",
   "pygments_lexer": "ipython3",
   "version": "3.9.12"
  }
 },
 "nbformat": 4,
 "nbformat_minor": 4
}
